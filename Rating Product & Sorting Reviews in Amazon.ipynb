{
 "cells": [
  {
   "cell_type": "markdown",
   "id": "ed947547",
   "metadata": {},
   "source": [
    "# PROJECT: Rating Product & Sorting Reviews in Amazon"
   ]
  },
  {
   "cell_type": "code",
   "execution_count": 1,
   "id": "f0a4e23d",
   "metadata": {},
   "outputs": [],
   "source": [
    "import pandas as pd\n",
    "import math\n",
    "import scipy.stats as st\n",
    "import datetime as dt"
   ]
  },
  {
   "cell_type": "code",
   "execution_count": 2,
   "id": "776fdbe0",
   "metadata": {},
   "outputs": [],
   "source": [
    "df = pd.read_csv('df_sub.csv')"
   ]
  },
  {
   "cell_type": "code",
   "execution_count": 3,
   "id": "d324eb02",
   "metadata": {
    "scrolled": true
   },
   "outputs": [
    {
     "data": {
      "text/html": [
       "<div>\n",
       "<style scoped>\n",
       "    .dataframe tbody tr th:only-of-type {\n",
       "        vertical-align: middle;\n",
       "    }\n",
       "\n",
       "    .dataframe tbody tr th {\n",
       "        vertical-align: top;\n",
       "    }\n",
       "\n",
       "    .dataframe thead th {\n",
       "        text-align: right;\n",
       "    }\n",
       "</style>\n",
       "<table border=\"1\" class=\"dataframe\">\n",
       "  <thead>\n",
       "    <tr style=\"text-align: right;\">\n",
       "      <th></th>\n",
       "      <th>reviewerID</th>\n",
       "      <th>asin</th>\n",
       "      <th>reviewerName</th>\n",
       "      <th>helpful</th>\n",
       "      <th>reviewText</th>\n",
       "      <th>overall</th>\n",
       "      <th>summary</th>\n",
       "      <th>unixReviewTime</th>\n",
       "      <th>reviewTime</th>\n",
       "    </tr>\n",
       "  </thead>\n",
       "  <tbody>\n",
       "    <tr>\n",
       "      <th>0</th>\n",
       "      <td>A3SBTW3WS4IQSN</td>\n",
       "      <td>B007WTAJTO</td>\n",
       "      <td>NaN</td>\n",
       "      <td>[0, 0]</td>\n",
       "      <td>No issues.</td>\n",
       "      <td>4.0</td>\n",
       "      <td>Four Stars</td>\n",
       "      <td>1406073600</td>\n",
       "      <td>07 23, 2014</td>\n",
       "    </tr>\n",
       "    <tr>\n",
       "      <th>1</th>\n",
       "      <td>A18K1ODH1I2MVB</td>\n",
       "      <td>B007WTAJTO</td>\n",
       "      <td>0mie</td>\n",
       "      <td>[0, 0]</td>\n",
       "      <td>Purchased this for my device, it worked as adv...</td>\n",
       "      <td>5.0</td>\n",
       "      <td>MOAR SPACE!!!</td>\n",
       "      <td>1382659200</td>\n",
       "      <td>10 25, 2013</td>\n",
       "    </tr>\n",
       "    <tr>\n",
       "      <th>2</th>\n",
       "      <td>A2FII3I2MBMUIA</td>\n",
       "      <td>B007WTAJTO</td>\n",
       "      <td>1K3</td>\n",
       "      <td>[0, 0]</td>\n",
       "      <td>it works as expected. I should have sprung for...</td>\n",
       "      <td>4.0</td>\n",
       "      <td>nothing to really say....</td>\n",
       "      <td>1356220800</td>\n",
       "      <td>12 23, 2012</td>\n",
       "    </tr>\n",
       "    <tr>\n",
       "      <th>3</th>\n",
       "      <td>A3H99DFEG68SR</td>\n",
       "      <td>B007WTAJTO</td>\n",
       "      <td>1m2</td>\n",
       "      <td>[0, 0]</td>\n",
       "      <td>This think has worked out great.Had a diff. br...</td>\n",
       "      <td>5.0</td>\n",
       "      <td>Great buy at this price!!!  *** UPDATE</td>\n",
       "      <td>1384992000</td>\n",
       "      <td>11 21, 2013</td>\n",
       "    </tr>\n",
       "    <tr>\n",
       "      <th>4</th>\n",
       "      <td>A375ZM4U047O79</td>\n",
       "      <td>B007WTAJTO</td>\n",
       "      <td>2&amp;amp;1/2Men</td>\n",
       "      <td>[0, 0]</td>\n",
       "      <td>Bought it with Retail Packaging, arrived legit...</td>\n",
       "      <td>5.0</td>\n",
       "      <td>best deal around</td>\n",
       "      <td>1373673600</td>\n",
       "      <td>07 13, 2013</td>\n",
       "    </tr>\n",
       "  </tbody>\n",
       "</table>\n",
       "</div>"
      ],
      "text/plain": [
       "       reviewerID        asin  reviewerName helpful  \\\n",
       "0  A3SBTW3WS4IQSN  B007WTAJTO           NaN  [0, 0]   \n",
       "1  A18K1ODH1I2MVB  B007WTAJTO          0mie  [0, 0]   \n",
       "2  A2FII3I2MBMUIA  B007WTAJTO           1K3  [0, 0]   \n",
       "3   A3H99DFEG68SR  B007WTAJTO           1m2  [0, 0]   \n",
       "4  A375ZM4U047O79  B007WTAJTO  2&amp;1/2Men  [0, 0]   \n",
       "\n",
       "                                          reviewText  overall  \\\n",
       "0                                         No issues.      4.0   \n",
       "1  Purchased this for my device, it worked as adv...      5.0   \n",
       "2  it works as expected. I should have sprung for...      4.0   \n",
       "3  This think has worked out great.Had a diff. br...      5.0   \n",
       "4  Bought it with Retail Packaging, arrived legit...      5.0   \n",
       "\n",
       "                                  summary  unixReviewTime   reviewTime  \n",
       "0                              Four Stars      1406073600  07 23, 2014  \n",
       "1                           MOAR SPACE!!!      1382659200  10 25, 2013  \n",
       "2               nothing to really say....      1356220800  12 23, 2012  \n",
       "3  Great buy at this price!!!  *** UPDATE      1384992000  11 21, 2013  \n",
       "4                        best deal around      1373673600  07 13, 2013  "
      ]
     },
     "execution_count": 3,
     "metadata": {},
     "output_type": "execute_result"
    }
   ],
   "source": [
    "df.head()"
   ]
  },
  {
   "cell_type": "code",
   "execution_count": 4,
   "id": "c8ea246a",
   "metadata": {},
   "outputs": [
    {
     "data": {
      "text/plain": [
       "(4915, 9)"
      ]
     },
     "execution_count": 4,
     "metadata": {},
     "output_type": "execute_result"
    }
   ],
   "source": [
    "df.shape"
   ]
  },
  {
   "cell_type": "code",
   "execution_count": 5,
   "id": "3b587d97",
   "metadata": {
    "scrolled": true
   },
   "outputs": [
    {
     "name": "stdout",
     "output_type": "stream",
     "text": [
      "<class 'pandas.core.frame.DataFrame'>\n",
      "RangeIndex: 4915 entries, 0 to 4914\n",
      "Data columns (total 9 columns):\n",
      " #   Column          Non-Null Count  Dtype  \n",
      "---  ------          --------------  -----  \n",
      " 0   reviewerID      4915 non-null   object \n",
      " 1   asin            4915 non-null   object \n",
      " 2   reviewerName    4914 non-null   object \n",
      " 3   helpful         4915 non-null   object \n",
      " 4   reviewText      4914 non-null   object \n",
      " 5   overall         4915 non-null   float64\n",
      " 6   summary         4915 non-null   object \n",
      " 7   unixReviewTime  4915 non-null   int64  \n",
      " 8   reviewTime      4915 non-null   object \n",
      "dtypes: float64(1), int64(1), object(7)\n",
      "memory usage: 345.7+ KB\n"
     ]
    }
   ],
   "source": [
    "df.info();"
   ]
  },
  {
   "cell_type": "code",
   "execution_count": 6,
   "id": "04fd1f61",
   "metadata": {
    "scrolled": true
   },
   "outputs": [
    {
     "data": {
      "text/plain": [
       "reviewerID        0\n",
       "asin              0\n",
       "reviewerName      1\n",
       "helpful           0\n",
       "reviewText        1\n",
       "overall           0\n",
       "summary           0\n",
       "unixReviewTime    0\n",
       "reviewTime        0\n",
       "dtype: int64"
      ]
     },
     "execution_count": 6,
     "metadata": {},
     "output_type": "execute_result"
    }
   ],
   "source": [
    "df.isnull().sum() 
   ]
  },
  {
   "cell_type": "markdown",
   "id": "fe14a096",
   "metadata": {},
   "source": [
    "### Task 1. Find the product with the most comments in the data set."
   ]
  },
  {
   "cell_type": "code",
   "execution_count": 7,
   "id": "e70cdc04",
   "metadata": {},
   "outputs": [
    {
     "data": {
      "text/plain": [
       "4.587589013224822"
      ]
     },
     "execution_count": 7,
     "metadata": {},
     "output_type": "execute_result"
    }
   ],
   "source": [
    "# average rating of the product\n",
    "df['overall'].mean()"
   ]
  },
  {
   "cell_type": "code",
   "execution_count": 8,
   "id": "0a936153",
   "metadata": {},
   "outputs": [],
   "source": [
    "# weighted average score by date\n",
    "df['reviewTime'] = pd.to_datetime(df['reviewTime'], dayfirst=True)"
   ]
  },
  {
   "cell_type": "code",
   "execution_count": 9,
   "id": "117890cd",
   "metadata": {},
   "outputs": [
    {
     "data": {
      "text/plain": [
       "Timestamp('2014-12-07 00:00:00')"
      ]
     },
     "execution_count": 9,
     "metadata": {},
     "output_type": "execute_result"
    }
   ],
   "source": [
    "df['reviewTime'].max()"
   ]
  },
  {
   "cell_type": "code",
   "execution_count": 10,
   "id": "a3906967",
   "metadata": {},
   "outputs": [],
   "source": [
    "current_date = pd.to_datetime('2014-12-08 0:0:0')"
   ]
  },
  {
   "cell_type": "code",
   "execution_count": 11,
   "id": "779023db",
   "metadata": {},
   "outputs": [],
   "source": [
    "# how many days have passed since the comment\n",
    "df['day_diff'] = (current_date - df['reviewTime']).dt.days"
   ]
  },
  {
   "cell_type": "code",
   "execution_count": 12,
   "id": "2993c44d",
   "metadata": {},
   "outputs": [
    {
     "data": {
      "text/plain": [
       "1064"
      ]
     },
     "execution_count": 12,
     "metadata": {},
     "output_type": "execute_result"
    }
   ],
   "source": [
    "df['day_diff'].max()"
   ]
  },
  {
   "cell_type": "code",
   "execution_count": 13,
   "id": "9a4cdb38",
   "metadata": {},
   "outputs": [
    {
     "data": {
      "text/plain": [
       "1"
      ]
     },
     "execution_count": 13,
     "metadata": {},
     "output_type": "execute_result"
    }
   ],
   "source": [
    "df['day_diff'].min()"
   ]
  },
  {
   "cell_type": "code",
   "execution_count": 14,
   "id": "a9ac15af",
   "metadata": {},
   "outputs": [],
   "source": [
    "# Division of time by quarter values\n",
    "a = df['day_diff'].quantile(0.25)\n",
    "b = df['day_diff'].quantile(0.50)\n",
    "c = df['day_diff'].quantile(0.75)"
   ]
  },
  {
   "cell_type": "code",
   "execution_count": 15,
   "id": "e63717e6",
   "metadata": {},
   "outputs": [
    {
     "data": {
      "text/plain": [
       "4.595593165128118"
      ]
     },
     "execution_count": 15,
     "metadata": {},
     "output_type": "execute_result"
    }
   ],
   "source": [
    "# Calculating weighted points according to a, b, c values\n",
    "df.loc[df['day_diff'] <= a, \"overall\"].mean() * 28 / 100 + \\\n",
    "    df.loc[(df['day_diff'] > a) & (df['day_diff'] <= b), \"overall\"].mean() * 26 /100 + \\\n",
    "    df.loc[(df['day_diff'] > b) & (df['day_diff'] <= c), \"overall\"].mean() * 24 / 100 + \\\n",
    "    df.loc[(df['day_diff'] > c), \"overall\"].mean() * 22 / 100"
   ]
  },
  {
   "cell_type": "markdown",
   "id": "453d0db6",
   "metadata": {},
   "source": [
    "### Task 2: Determine the top 20 comments to display"
   ]
  },
  {
   "cell_type": "markdown",
   "id": "3ded94c6",
   "metadata": {},
   "source": [
    "There are 2 values in Helpful. The first is the number of votes that find the comments helpful, and the second is the total number of votes."
   ]
  },
  {
   "cell_type": "code",
   "execution_count": 16,
   "id": "669278e9",
   "metadata": {
    "scrolled": true
   },
   "outputs": [
    {
     "data": {
      "text/plain": [
       "0    [0, 0]\n",
       "1    [0, 0]\n",
       "2    [0, 0]\n",
       "3    [0, 0]\n",
       "4    [0, 0]\n",
       "Name: helpful, dtype: object"
      ]
     },
     "execution_count": 16,
     "metadata": {},
     "output_type": "execute_result"
    }
   ],
   "source": [
    "df['helpful'].head()"
   ]
  },
  {
   "cell_type": "code",
   "execution_count": 17,
   "id": "9dbe18ac",
   "metadata": {},
   "outputs": [],
   "source": [
    "# Create 3 variables from the variable 'helpful'\n",
    "# 1: helpful_yes, 2: helpful_no,  3: total_vote\n",
    "df['helpful_yes'] = df[['helpful']].applymap(lambda x:x.split(', ')[0].strip('[')).astype(int)\n",
    "df['total_vote'] = df[['helpful']].applymap(lambda x:x.split(', ')[1].strip(']')).astype(int)\n",
    "df['helpful_no'] = df['total_vote'] - df['helpful_yes']"
   ]
  },
  {
   "cell_type": "code",
   "execution_count": 18,
   "id": "75f1e26a",
   "metadata": {},
   "outputs": [
    {
     "data": {
      "text/plain": [
       "25    [0, 0]\n",
       "26    [1, 2]\n",
       "27    [0, 0]\n",
       "28    [1, 1]\n",
       "29    [0, 0]\n",
       "Name: helpful, dtype: object"
      ]
     },
     "execution_count": 18,
     "metadata": {},
     "output_type": "execute_result"
    }
   ],
   "source": [
    "df['helpful'].iloc[25:30]"
   ]
  },
  {
   "cell_type": "code",
   "execution_count": 19,
   "id": "614fbaa6",
   "metadata": {},
   "outputs": [],
   "source": [
    "# Creating scores based on score_pos_neg_diff\n",
    "def score_pos_neg_diff(pos, neg):\n",
    "    return pos - neg\n",
    "\n",
    "df['score_pos_neg_diff'] = df.apply(lambda x: score_pos_neg_diff(x[\"helpful_yes\"],\n",
    "                                                                 x[\"helpful_no\"]),\n",
    "                                    axis=1)"
   ]
  },
  {
   "cell_type": "code",
   "execution_count": 20,
   "id": "9d1e8c91",
   "metadata": {},
   "outputs": [],
   "source": [
    "# Creating scores based on score_average_rating\n",
    "def score_average_rating(pos, neg):\n",
    "    if pos + neg == 0:\n",
    "        return 0\n",
    "    return pos / (pos + neg)\n",
    "\n",
    "df['score_average_rating'] = df.apply(lambda x: score_average_rating(x[\"helpful_yes\"],\n",
    "                                                                     x[\"helpful_no\"]),\n",
    "                                      axis=1)"
   ]
  },
  {
   "cell_type": "code",
   "execution_count": 21,
   "id": "b1470c84",
   "metadata": {},
   "outputs": [],
   "source": [
    "# Creating scores based on wilson_lower_bound\n",
    "def wilson_lower_bound(pos, neg, confidence=0.95):\n",
    "    n = pos + neg\n",
    "    if n == 0:\n",
    "        return 0\n",
    "    z = st.norm.ppf(1 -(1 - confidence) / 2)\n",
    "    phat = 1.0 * pos / n \n",
    "    return (phat + z *z / (2 * n) - z * math.sqrt((phat * (1 - phat) + z * z / (4 * n)) / n)) / (1 + z * z / n)\n",
    "\n",
    "\n",
    "df['wilson_lower_bound'] = df.apply(lambda x: wilson_lower_bound(x[\"helpful_yes\"],\n",
    "                                                                 x[\"helpful_no\"]),\n",
    "                                    axis=1)\n"
   ]
  },
  {
   "cell_type": "code",
   "execution_count": 22,
   "id": "0675de54",
   "metadata": {},
   "outputs": [
    {
     "data": {
      "text/html": [
       "<div>\n",
       "<style scoped>\n",
       "    .dataframe tbody tr th:only-of-type {\n",
       "        vertical-align: middle;\n",
       "    }\n",
       "\n",
       "    .dataframe tbody tr th {\n",
       "        vertical-align: top;\n",
       "    }\n",
       "\n",
       "    .dataframe thead th {\n",
       "        text-align: right;\n",
       "    }\n",
       "</style>\n",
       "<table border=\"1\" class=\"dataframe\">\n",
       "  <thead>\n",
       "    <tr style=\"text-align: right;\">\n",
       "      <th></th>\n",
       "      <th>summary</th>\n",
       "      <th>helpful</th>\n",
       "      <th>day_diff</th>\n",
       "      <th>overall</th>\n",
       "      <th>score_pos_neg_diff</th>\n",
       "      <th>score_average_rating</th>\n",
       "      <th>wilson_lower_bound</th>\n",
       "    </tr>\n",
       "  </thead>\n",
       "  <tbody>\n",
       "    <tr>\n",
       "      <th>2031</th>\n",
       "      <td>UPDATED - Great w/ Galaxy S4 &amp; Galaxy Tab 4 10...</td>\n",
       "      <td>[1952, 2020]</td>\n",
       "      <td>702</td>\n",
       "      <td>5.0</td>\n",
       "      <td>1884</td>\n",
       "      <td>0.966337</td>\n",
       "      <td>0.957544</td>\n",
       "    </tr>\n",
       "    <tr>\n",
       "      <th>3449</th>\n",
       "      <td>Top of the class among all (budget-priced) mic...</td>\n",
       "      <td>[1428, 1505]</td>\n",
       "      <td>803</td>\n",
       "      <td>5.0</td>\n",
       "      <td>1351</td>\n",
       "      <td>0.948837</td>\n",
       "      <td>0.936519</td>\n",
       "    </tr>\n",
       "    <tr>\n",
       "      <th>4212</th>\n",
       "      <td>1 Star reviews - Micro SDXC card unmounts itse...</td>\n",
       "      <td>[1568, 1694]</td>\n",
       "      <td>579</td>\n",
       "      <td>1.0</td>\n",
       "      <td>1442</td>\n",
       "      <td>0.925620</td>\n",
       "      <td>0.912139</td>\n",
       "    </tr>\n",
       "    <tr>\n",
       "      <th>317</th>\n",
       "      <td>Warning, read this!</td>\n",
       "      <td>[422, 495]</td>\n",
       "      <td>1033</td>\n",
       "      <td>1.0</td>\n",
       "      <td>349</td>\n",
       "      <td>0.852525</td>\n",
       "      <td>0.818577</td>\n",
       "    </tr>\n",
       "    <tr>\n",
       "      <th>4672</th>\n",
       "      <td>Super high capacity!!!  Excellent price (on Am...</td>\n",
       "      <td>[45, 49]</td>\n",
       "      <td>158</td>\n",
       "      <td>5.0</td>\n",
       "      <td>41</td>\n",
       "      <td>0.918367</td>\n",
       "      <td>0.808109</td>\n",
       "    </tr>\n",
       "    <tr>\n",
       "      <th>1835</th>\n",
       "      <td>I own it</td>\n",
       "      <td>[60, 68]</td>\n",
       "      <td>283</td>\n",
       "      <td>5.0</td>\n",
       "      <td>52</td>\n",
       "      <td>0.882353</td>\n",
       "      <td>0.784651</td>\n",
       "    </tr>\n",
       "    <tr>\n",
       "      <th>3981</th>\n",
       "      <td>Resolving confusion between \"Mobile Ultra\" and...</td>\n",
       "      <td>[112, 139]</td>\n",
       "      <td>777</td>\n",
       "      <td>5.0</td>\n",
       "      <td>85</td>\n",
       "      <td>0.805755</td>\n",
       "      <td>0.732136</td>\n",
       "    </tr>\n",
       "    <tr>\n",
       "      <th>3807</th>\n",
       "      <td>Good buy for the money but wait, I had an issue!</td>\n",
       "      <td>[22, 25]</td>\n",
       "      <td>649</td>\n",
       "      <td>3.0</td>\n",
       "      <td>19</td>\n",
       "      <td>0.880000</td>\n",
       "      <td>0.700442</td>\n",
       "    </tr>\n",
       "    <tr>\n",
       "      <th>4306</th>\n",
       "      <td>Awesome Card!</td>\n",
       "      <td>[51, 65]</td>\n",
       "      <td>823</td>\n",
       "      <td>5.0</td>\n",
       "      <td>37</td>\n",
       "      <td>0.784615</td>\n",
       "      <td>0.670334</td>\n",
       "    </tr>\n",
       "    <tr>\n",
       "      <th>4596</th>\n",
       "      <td>Designed incompatibility/Don't support SanDisk</td>\n",
       "      <td>[82, 109]</td>\n",
       "      <td>807</td>\n",
       "      <td>1.0</td>\n",
       "      <td>55</td>\n",
       "      <td>0.752294</td>\n",
       "      <td>0.663595</td>\n",
       "    </tr>\n",
       "    <tr>\n",
       "      <th>315</th>\n",
       "      <td>Samsung Galaxy Tab2 works with this card if re...</td>\n",
       "      <td>[38, 48]</td>\n",
       "      <td>847</td>\n",
       "      <td>5.0</td>\n",
       "      <td>28</td>\n",
       "      <td>0.791667</td>\n",
       "      <td>0.657411</td>\n",
       "    </tr>\n",
       "    <tr>\n",
       "      <th>1465</th>\n",
       "      <td>Finally.</td>\n",
       "      <td>[7, 7]</td>\n",
       "      <td>238</td>\n",
       "      <td>4.0</td>\n",
       "      <td>7</td>\n",
       "      <td>1.000000</td>\n",
       "      <td>0.645670</td>\n",
       "    </tr>\n",
       "    <tr>\n",
       "      <th>1609</th>\n",
       "      <td>Bet you wish you had one of these</td>\n",
       "      <td>[7, 7]</td>\n",
       "      <td>257</td>\n",
       "      <td>5.0</td>\n",
       "      <td>7</td>\n",
       "      <td>1.000000</td>\n",
       "      <td>0.645670</td>\n",
       "    </tr>\n",
       "    <tr>\n",
       "      <th>4302</th>\n",
       "      <td>Perfect with GoPro Black 3+</td>\n",
       "      <td>[14, 16]</td>\n",
       "      <td>262</td>\n",
       "      <td>5.0</td>\n",
       "      <td>12</td>\n",
       "      <td>0.875000</td>\n",
       "      <td>0.639772</td>\n",
       "    </tr>\n",
       "    <tr>\n",
       "      <th>4072</th>\n",
       "      <td>Used for my Samsung Galaxy Tab 2 7.0</td>\n",
       "      <td>[6, 6]</td>\n",
       "      <td>759</td>\n",
       "      <td>5.0</td>\n",
       "      <td>6</td>\n",
       "      <td>1.000000</td>\n",
       "      <td>0.609666</td>\n",
       "    </tr>\n",
       "    <tr>\n",
       "      <th>1072</th>\n",
       "      <td>Works wonders for the Galaxy Note 2!</td>\n",
       "      <td>[5, 5]</td>\n",
       "      <td>942</td>\n",
       "      <td>5.0</td>\n",
       "      <td>5</td>\n",
       "      <td>1.000000</td>\n",
       "      <td>0.565518</td>\n",
       "    </tr>\n",
       "    <tr>\n",
       "      <th>2583</th>\n",
       "      <td>Works Great with a GoPro 3 Black!</td>\n",
       "      <td>[5, 5]</td>\n",
       "      <td>489</td>\n",
       "      <td>5.0</td>\n",
       "      <td>5</td>\n",
       "      <td>1.000000</td>\n",
       "      <td>0.565518</td>\n",
       "    </tr>\n",
       "    <tr>\n",
       "      <th>121</th>\n",
       "      <td>ready for use on the Galaxy S3</td>\n",
       "      <td>[5, 5]</td>\n",
       "      <td>943</td>\n",
       "      <td>5.0</td>\n",
       "      <td>5</td>\n",
       "      <td>1.000000</td>\n",
       "      <td>0.565518</td>\n",
       "    </tr>\n",
       "    <tr>\n",
       "      <th>1142</th>\n",
       "      <td>Great large capacity card</td>\n",
       "      <td>[5, 5]</td>\n",
       "      <td>307</td>\n",
       "      <td>5.0</td>\n",
       "      <td>5</td>\n",
       "      <td>1.000000</td>\n",
       "      <td>0.565518</td>\n",
       "    </tr>\n",
       "    <tr>\n",
       "      <th>1753</th>\n",
       "      <td>Use Nothing Other Than the Best</td>\n",
       "      <td>[5, 5]</td>\n",
       "      <td>777</td>\n",
       "      <td>5.0</td>\n",
       "      <td>5</td>\n",
       "      <td>1.000000</td>\n",
       "      <td>0.565518</td>\n",
       "    </tr>\n",
       "  </tbody>\n",
       "</table>\n",
       "</div>"
      ],
      "text/plain": [
       "                                                summary       helpful  \\\n",
       "2031  UPDATED - Great w/ Galaxy S4 & Galaxy Tab 4 10...  [1952, 2020]   \n",
       "3449  Top of the class among all (budget-priced) mic...  [1428, 1505]   \n",
       "4212  1 Star reviews - Micro SDXC card unmounts itse...  [1568, 1694]   \n",
       "317                                 Warning, read this!    [422, 495]   \n",
       "4672  Super high capacity!!!  Excellent price (on Am...      [45, 49]   \n",
       "1835                                           I own it      [60, 68]   \n",
       "3981  Resolving confusion between \"Mobile Ultra\" and...    [112, 139]   \n",
       "3807   Good buy for the money but wait, I had an issue!      [22, 25]   \n",
       "4306                                      Awesome Card!      [51, 65]   \n",
       "4596     Designed incompatibility/Don't support SanDisk     [82, 109]   \n",
       "315   Samsung Galaxy Tab2 works with this card if re...      [38, 48]   \n",
       "1465                                           Finally.        [7, 7]   \n",
       "1609                  Bet you wish you had one of these        [7, 7]   \n",
       "4302                        Perfect with GoPro Black 3+      [14, 16]   \n",
       "4072               Used for my Samsung Galaxy Tab 2 7.0        [6, 6]   \n",
       "1072               Works wonders for the Galaxy Note 2!        [5, 5]   \n",
       "2583                  Works Great with a GoPro 3 Black!        [5, 5]   \n",
       "121                      ready for use on the Galaxy S3        [5, 5]   \n",
       "1142                          Great large capacity card        [5, 5]   \n",
       "1753                    Use Nothing Other Than the Best        [5, 5]   \n",
       "\n",
       "      day_diff  overall  score_pos_neg_diff  score_average_rating  \\\n",
       "2031       702      5.0                1884              0.966337   \n",
       "3449       803      5.0                1351              0.948837   \n",
       "4212       579      1.0                1442              0.925620   \n",
       "317       1033      1.0                 349              0.852525   \n",
       "4672       158      5.0                  41              0.918367   \n",
       "1835       283      5.0                  52              0.882353   \n",
       "3981       777      5.0                  85              0.805755   \n",
       "3807       649      3.0                  19              0.880000   \n",
       "4306       823      5.0                  37              0.784615   \n",
       "4596       807      1.0                  55              0.752294   \n",
       "315        847      5.0                  28              0.791667   \n",
       "1465       238      4.0                   7              1.000000   \n",
       "1609       257      5.0                   7              1.000000   \n",
       "4302       262      5.0                  12              0.875000   \n",
       "4072       759      5.0                   6              1.000000   \n",
       "1072       942      5.0                   5              1.000000   \n",
       "2583       489      5.0                   5              1.000000   \n",
       "121        943      5.0                   5              1.000000   \n",
       "1142       307      5.0                   5              1.000000   \n",
       "1753       777      5.0                   5              1.000000   \n",
       "\n",
       "      wilson_lower_bound  \n",
       "2031            0.957544  \n",
       "3449            0.936519  \n",
       "4212            0.912139  \n",
       "317             0.818577  \n",
       "4672            0.808109  \n",
       "1835            0.784651  \n",
       "3981            0.732136  \n",
       "3807            0.700442  \n",
       "4306            0.670334  \n",
       "4596            0.663595  \n",
       "315             0.657411  \n",
       "1465            0.645670  \n",
       "1609            0.645670  \n",
       "4302            0.639772  \n",
       "4072            0.609666  \n",
       "1072            0.565518  \n",
       "2583            0.565518  \n",
       "121             0.565518  \n",
       "1142            0.565518  \n",
       "1753            0.565518  "
      ]
     },
     "execution_count": 22,
     "metadata": {},
     "output_type": "execute_result"
    }
   ],
   "source": [
    "# Identify the 20 comments that will be displayed on the product page \n",
    "df[['summary', 'helpful', 'day_diff','overall', 'score_pos_neg_diff', 'score_average_rating', 'wilson_lower_bound']].sort_values('wilson_lower_bound', ascending=False).head(20)\n"
   ]
  },
  {
   "cell_type": "markdown",
   "id": "16446b82",
   "metadata": {},
   "source": [
    "* **Sorting comments based on the wilson_lower_bound variable will give the most beneficial result for customers.**\n",
    "* **After ranking, there are comments with a product rating of 1, so a customer who reads the reviews believes that the ranking is objective and makes his choice confidently.**"
   ]
  },
  {
   "cell_type": "code",
   "execution_count": 23,
   "id": "8ec8d1f0",
   "metadata": {},
   "outputs": [
    {
     "data": {
      "text/html": [
       "<div>\n",
       "<style scoped>\n",
       "    .dataframe tbody tr th:only-of-type {\n",
       "        vertical-align: middle;\n",
       "    }\n",
       "\n",
       "    .dataframe tbody tr th {\n",
       "        vertical-align: top;\n",
       "    }\n",
       "\n",
       "    .dataframe thead th {\n",
       "        text-align: right;\n",
       "    }\n",
       "</style>\n",
       "<table border=\"1\" class=\"dataframe\">\n",
       "  <thead>\n",
       "    <tr style=\"text-align: right;\">\n",
       "      <th></th>\n",
       "      <th>overall</th>\n",
       "      <th>score_average_rating</th>\n",
       "      <th>wilson_lower_bound</th>\n",
       "    </tr>\n",
       "  </thead>\n",
       "  <tbody>\n",
       "    <tr>\n",
       "      <th>overall</th>\n",
       "      <td>1.000000</td>\n",
       "      <td>-0.153002</td>\n",
       "      <td>-0.138549</td>\n",
       "    </tr>\n",
       "    <tr>\n",
       "      <th>score_average_rating</th>\n",
       "      <td>-0.153002</td>\n",
       "      <td>1.000000</td>\n",
       "      <td>0.873184</td>\n",
       "    </tr>\n",
       "    <tr>\n",
       "      <th>wilson_lower_bound</th>\n",
       "      <td>-0.138549</td>\n",
       "      <td>0.873184</td>\n",
       "      <td>1.000000</td>\n",
       "    </tr>\n",
       "  </tbody>\n",
       "</table>\n",
       "</div>"
      ],
      "text/plain": [
       "                       overall  score_average_rating  wilson_lower_bound\n",
       "overall               1.000000             -0.153002           -0.138549\n",
       "score_average_rating -0.153002              1.000000            0.873184\n",
       "wilson_lower_bound   -0.138549              0.873184            1.000000"
      ]
     },
     "execution_count": 23,
     "metadata": {},
     "output_type": "execute_result"
    }
   ],
   "source": [
    "df[['overall', 'score_average_rating', 'wilson_lower_bound']].corr()\n"
   ]
  }
 ],
 "metadata": {
  "kernelspec": {
   "display_name": "Python 3",
   "language": "python",
   "name": "python3"
  },
  "language_info": {
   "codemirror_mode": {
    "name": "ipython",
    "version": 3
   },
   "file_extension": ".py",
   "mimetype": "text/x-python",
   "name": "python",
   "nbconvert_exporter": "python",
   "pygments_lexer": "ipython3",
   "version": "3.7.4"
  }
 },
 "nbformat": 4,
 "nbformat_minor": 5
}
